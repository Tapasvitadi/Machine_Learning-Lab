{
  "nbformat": 4,
  "nbformat_minor": 0,
  "metadata": {
    "colab": {
      "name": "18WH1A05A8_Program1.ipynb",
      "provenance": [],
      "authorship_tag": "ABX9TyO9gaINS9pi+eaRprOvZY61",
      "include_colab_link": true
    },
    "kernelspec": {
      "name": "python3",
      "display_name": "Python 3"
    },
    "language_info": {
      "name": "python"
    }
  },
  "cells": [
    {
      "cell_type": "markdown",
      "metadata": {
        "id": "view-in-github",
        "colab_type": "text"
      },
      "source": [
        "<a href=\"https://colab.research.google.com/github/Tapasvitadi/Machine_Learning-Lab/blob/main/18WH1A05A8_Program1.ipynb\" target=\"_parent\"><img src=\"https://colab.research.google.com/assets/colab-badge.svg\" alt=\"Open In Colab\"/></a>"
      ]
    },
    {
      "cell_type": "code",
      "metadata": {
        "id": "OT0KxlwIIyQz"
      },
      "source": [
        ""
      ],
      "execution_count": null,
      "outputs": []
    },
    {
      "cell_type": "code",
      "metadata": {
        "colab": {
          "base_uri": "https://localhost:8080/"
        },
        "id": "tsc89vqDJLaU",
        "outputId": "240e601f-6063-47cf-cfad-0b542788eaea"
      },
      "source": [
        "\n",
        "probStudAbsentAndFriday = 0.03\n",
        "probFriday =0.2\n",
        "bayesResult = (probStudAbsentAndFriday/probFriday)\n",
        "print (bayesResult *100)"
      ],
      "execution_count": 1,
      "outputs": [
        {
          "output_type": "stream",
          "text": [
            "15.0\n"
          ],
          "name": "stdout"
        }
      ]
    }
  ]
}